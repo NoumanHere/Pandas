{
 "cells": [
  {
   "cell_type": "code",
   "execution_count": 35,
   "id": "d4104301",
   "metadata": {},
   "outputs": [],
   "source": [
    "import pandas as pd\n",
    "from datetime import datetime as dt"
   ]
  },
  {
   "cell_type": "code",
   "execution_count": 36,
   "id": "b621dd98",
   "metadata": {},
   "outputs": [],
   "source": [
    "d_parser = lambda x: dt.strptime(x, '%Y-%m-%d %I-%p')\n",
    "df = pd.read_csv('../Data/ETH_1h.csv', parse_dates = ['Date'], date_parser=d_parser)"
   ]
  },
  {
   "cell_type": "code",
   "execution_count": 37,
   "id": "90899d05",
   "metadata": {},
   "outputs": [
    {
     "data": {
      "text/html": [
       "<div>\n",
       "<style scoped>\n",
       "    .dataframe tbody tr th:only-of-type {\n",
       "        vertical-align: middle;\n",
       "    }\n",
       "\n",
       "    .dataframe tbody tr th {\n",
       "        vertical-align: top;\n",
       "    }\n",
       "\n",
       "    .dataframe thead th {\n",
       "        text-align: right;\n",
       "    }\n",
       "</style>\n",
       "<table border=\"1\" class=\"dataframe\">\n",
       "  <thead>\n",
       "    <tr style=\"text-align: right;\">\n",
       "      <th></th>\n",
       "      <th>Date</th>\n",
       "      <th>Symbol</th>\n",
       "      <th>Open</th>\n",
       "      <th>High</th>\n",
       "      <th>Low</th>\n",
       "      <th>Close</th>\n",
       "      <th>Volume</th>\n",
       "    </tr>\n",
       "  </thead>\n",
       "  <tbody>\n",
       "    <tr>\n",
       "      <th>0</th>\n",
       "      <td>2020-03-13 20:00:00</td>\n",
       "      <td>ETHUSD</td>\n",
       "      <td>129.94</td>\n",
       "      <td>131.82</td>\n",
       "      <td>126.87</td>\n",
       "      <td>128.71</td>\n",
       "      <td>1940673.93</td>\n",
       "    </tr>\n",
       "    <tr>\n",
       "      <th>1</th>\n",
       "      <td>2020-03-13 19:00:00</td>\n",
       "      <td>ETHUSD</td>\n",
       "      <td>119.51</td>\n",
       "      <td>132.02</td>\n",
       "      <td>117.10</td>\n",
       "      <td>129.94</td>\n",
       "      <td>7579741.09</td>\n",
       "    </tr>\n",
       "    <tr>\n",
       "      <th>2</th>\n",
       "      <td>2020-03-13 18:00:00</td>\n",
       "      <td>ETHUSD</td>\n",
       "      <td>124.47</td>\n",
       "      <td>124.85</td>\n",
       "      <td>115.50</td>\n",
       "      <td>119.51</td>\n",
       "      <td>4898735.81</td>\n",
       "    </tr>\n",
       "    <tr>\n",
       "      <th>3</th>\n",
       "      <td>2020-03-13 17:00:00</td>\n",
       "      <td>ETHUSD</td>\n",
       "      <td>124.08</td>\n",
       "      <td>127.42</td>\n",
       "      <td>121.63</td>\n",
       "      <td>124.47</td>\n",
       "      <td>2753450.92</td>\n",
       "    </tr>\n",
       "    <tr>\n",
       "      <th>4</th>\n",
       "      <td>2020-03-13 16:00:00</td>\n",
       "      <td>ETHUSD</td>\n",
       "      <td>124.85</td>\n",
       "      <td>129.51</td>\n",
       "      <td>120.17</td>\n",
       "      <td>124.08</td>\n",
       "      <td>4461424.71</td>\n",
       "    </tr>\n",
       "  </tbody>\n",
       "</table>\n",
       "</div>"
      ],
      "text/plain": [
       "                 Date  Symbol    Open    High     Low   Close      Volume\n",
       "0 2020-03-13 20:00:00  ETHUSD  129.94  131.82  126.87  128.71  1940673.93\n",
       "1 2020-03-13 19:00:00  ETHUSD  119.51  132.02  117.10  129.94  7579741.09\n",
       "2 2020-03-13 18:00:00  ETHUSD  124.47  124.85  115.50  119.51  4898735.81\n",
       "3 2020-03-13 17:00:00  ETHUSD  124.08  127.42  121.63  124.47  2753450.92\n",
       "4 2020-03-13 16:00:00  ETHUSD  124.85  129.51  120.17  124.08  4461424.71"
      ]
     },
     "execution_count": 37,
     "metadata": {},
     "output_type": "execute_result"
    }
   ],
   "source": [
    "df.head()"
   ]
  },
  {
   "cell_type": "code",
   "execution_count": 26,
   "id": "ce03bb7b",
   "metadata": {},
   "outputs": [
    {
     "data": {
      "text/plain": [
       "(23674, 7)"
      ]
     },
     "execution_count": 26,
     "metadata": {},
     "output_type": "execute_result"
    }
   ],
   "source": [
    "df.shape"
   ]
  },
  {
   "cell_type": "code",
   "execution_count": 38,
   "id": "0bf1d3a8",
   "metadata": {},
   "outputs": [
    {
     "ename": "AttributeError",
     "evalue": "'Timestamp' object has no attribute 'dayname'",
     "output_type": "error",
     "traceback": [
      "\u001b[0;31m---------------------------------------------------------------------------\u001b[0m",
      "\u001b[0;31mAttributeError\u001b[0m                            Traceback (most recent call last)",
      "\u001b[0;32m<ipython-input-38-09736b08b944>\u001b[0m in \u001b[0;36m<module>\u001b[0;34m\u001b[0m\n\u001b[0;32m----> 1\u001b[0;31m \u001b[0mdf\u001b[0m\u001b[0;34m.\u001b[0m\u001b[0mloc\u001b[0m\u001b[0;34m[\u001b[0m\u001b[0;36m0\u001b[0m\u001b[0;34m]\u001b[0m\u001b[0;34m[\u001b[0m\u001b[0;34m'Date'\u001b[0m\u001b[0;34m]\u001b[0m\u001b[0;34m.\u001b[0m\u001b[0mdayname\u001b[0m\u001b[0;34m\u001b[0m\u001b[0;34m\u001b[0m\u001b[0m\n\u001b[0m",
      "\u001b[0;31mAttributeError\u001b[0m: 'Timestamp' object has no attribute 'dayname'"
     ]
    }
   ],
   "source": [
    "df.loc[0]['Date'].dayname"
   ]
  },
  {
   "cell_type": "code",
   "execution_count": 13,
   "id": "60fd4988",
   "metadata": {},
   "outputs": [],
   "source": [
    "df['Date'] = pd.to_datetime(df['Date'],format = '%Y-%m-%d %I-%p')"
   ]
  },
  {
   "cell_type": "code",
   "execution_count": 39,
   "id": "cd5d4ef4",
   "metadata": {},
   "outputs": [
    {
     "data": {
      "text/plain": [
       "0       2020-03-13 20:00:00\n",
       "1       2020-03-13 19:00:00\n",
       "2       2020-03-13 18:00:00\n",
       "3       2020-03-13 17:00:00\n",
       "4       2020-03-13 16:00:00\n",
       "                ...        \n",
       "23669   2017-07-01 15:00:00\n",
       "23670   2017-07-01 14:00:00\n",
       "23671   2017-07-01 13:00:00\n",
       "23672   2017-07-01 12:00:00\n",
       "23673   2017-07-01 11:00:00\n",
       "Name: Date, Length: 23674, dtype: datetime64[ns]"
      ]
     },
     "execution_count": 39,
     "metadata": {},
     "output_type": "execute_result"
    }
   ],
   "source": [
    "df['Date']"
   ]
  },
  {
   "cell_type": "code",
   "execution_count": 40,
   "id": "fa01cb09",
   "metadata": {},
   "outputs": [
    {
     "data": {
      "text/plain": [
       "'Friday'"
      ]
     },
     "execution_count": 40,
     "metadata": {},
     "output_type": "execute_result"
    }
   ],
   "source": [
    "df.loc[0,'Date'].day_name()"
   ]
  },
  {
   "cell_type": "code",
   "execution_count": 44,
   "id": "2697bc75",
   "metadata": {},
   "outputs": [
    {
     "data": {
      "text/plain": [
       "0          Friday\n",
       "1          Friday\n",
       "2          Friday\n",
       "3          Friday\n",
       "4          Friday\n",
       "           ...   \n",
       "23669    Saturday\n",
       "23670    Saturday\n",
       "23671    Saturday\n",
       "23672    Saturday\n",
       "23673    Saturday\n",
       "Name: Date, Length: 23674, dtype: object"
      ]
     },
     "execution_count": 44,
     "metadata": {},
     "output_type": "execute_result"
    }
   ],
   "source": [
    "df['Date'].dt.day_name()"
   ]
  },
  {
   "cell_type": "code",
   "execution_count": 45,
   "id": "decf7617",
   "metadata": {},
   "outputs": [],
   "source": [
    "df['DayOfWeek'] = df['Date'].dt.day_name()"
   ]
  },
  {
   "cell_type": "code",
   "execution_count": 46,
   "id": "ce98de34",
   "metadata": {},
   "outputs": [
    {
     "data": {
      "text/html": [
       "<div>\n",
       "<style scoped>\n",
       "    .dataframe tbody tr th:only-of-type {\n",
       "        vertical-align: middle;\n",
       "    }\n",
       "\n",
       "    .dataframe tbody tr th {\n",
       "        vertical-align: top;\n",
       "    }\n",
       "\n",
       "    .dataframe thead th {\n",
       "        text-align: right;\n",
       "    }\n",
       "</style>\n",
       "<table border=\"1\" class=\"dataframe\">\n",
       "  <thead>\n",
       "    <tr style=\"text-align: right;\">\n",
       "      <th></th>\n",
       "      <th>Date</th>\n",
       "      <th>Symbol</th>\n",
       "      <th>Open</th>\n",
       "      <th>High</th>\n",
       "      <th>Low</th>\n",
       "      <th>Close</th>\n",
       "      <th>Volume</th>\n",
       "      <th>DayOfWeek</th>\n",
       "    </tr>\n",
       "  </thead>\n",
       "  <tbody>\n",
       "    <tr>\n",
       "      <th>0</th>\n",
       "      <td>2020-03-13 20:00:00</td>\n",
       "      <td>ETHUSD</td>\n",
       "      <td>129.94</td>\n",
       "      <td>131.82</td>\n",
       "      <td>126.87</td>\n",
       "      <td>128.71</td>\n",
       "      <td>1940673.93</td>\n",
       "      <td>Friday</td>\n",
       "    </tr>\n",
       "    <tr>\n",
       "      <th>1</th>\n",
       "      <td>2020-03-13 19:00:00</td>\n",
       "      <td>ETHUSD</td>\n",
       "      <td>119.51</td>\n",
       "      <td>132.02</td>\n",
       "      <td>117.10</td>\n",
       "      <td>129.94</td>\n",
       "      <td>7579741.09</td>\n",
       "      <td>Friday</td>\n",
       "    </tr>\n",
       "    <tr>\n",
       "      <th>2</th>\n",
       "      <td>2020-03-13 18:00:00</td>\n",
       "      <td>ETHUSD</td>\n",
       "      <td>124.47</td>\n",
       "      <td>124.85</td>\n",
       "      <td>115.50</td>\n",
       "      <td>119.51</td>\n",
       "      <td>4898735.81</td>\n",
       "      <td>Friday</td>\n",
       "    </tr>\n",
       "    <tr>\n",
       "      <th>3</th>\n",
       "      <td>2020-03-13 17:00:00</td>\n",
       "      <td>ETHUSD</td>\n",
       "      <td>124.08</td>\n",
       "      <td>127.42</td>\n",
       "      <td>121.63</td>\n",
       "      <td>124.47</td>\n",
       "      <td>2753450.92</td>\n",
       "      <td>Friday</td>\n",
       "    </tr>\n",
       "    <tr>\n",
       "      <th>4</th>\n",
       "      <td>2020-03-13 16:00:00</td>\n",
       "      <td>ETHUSD</td>\n",
       "      <td>124.85</td>\n",
       "      <td>129.51</td>\n",
       "      <td>120.17</td>\n",
       "      <td>124.08</td>\n",
       "      <td>4461424.71</td>\n",
       "      <td>Friday</td>\n",
       "    </tr>\n",
       "    <tr>\n",
       "      <th>...</th>\n",
       "      <td>...</td>\n",
       "      <td>...</td>\n",
       "      <td>...</td>\n",
       "      <td>...</td>\n",
       "      <td>...</td>\n",
       "      <td>...</td>\n",
       "      <td>...</td>\n",
       "      <td>...</td>\n",
       "    </tr>\n",
       "    <tr>\n",
       "      <th>23669</th>\n",
       "      <td>2017-07-01 15:00:00</td>\n",
       "      <td>ETHUSD</td>\n",
       "      <td>265.74</td>\n",
       "      <td>272.74</td>\n",
       "      <td>265.00</td>\n",
       "      <td>272.57</td>\n",
       "      <td>1500282.55</td>\n",
       "      <td>Saturday</td>\n",
       "    </tr>\n",
       "    <tr>\n",
       "      <th>23670</th>\n",
       "      <td>2017-07-01 14:00:00</td>\n",
       "      <td>ETHUSD</td>\n",
       "      <td>268.79</td>\n",
       "      <td>269.90</td>\n",
       "      <td>265.00</td>\n",
       "      <td>265.74</td>\n",
       "      <td>1702536.85</td>\n",
       "      <td>Saturday</td>\n",
       "    </tr>\n",
       "    <tr>\n",
       "      <th>23671</th>\n",
       "      <td>2017-07-01 13:00:00</td>\n",
       "      <td>ETHUSD</td>\n",
       "      <td>274.83</td>\n",
       "      <td>274.93</td>\n",
       "      <td>265.00</td>\n",
       "      <td>268.79</td>\n",
       "      <td>3010787.99</td>\n",
       "      <td>Saturday</td>\n",
       "    </tr>\n",
       "    <tr>\n",
       "      <th>23672</th>\n",
       "      <td>2017-07-01 12:00:00</td>\n",
       "      <td>ETHUSD</td>\n",
       "      <td>275.01</td>\n",
       "      <td>275.01</td>\n",
       "      <td>271.00</td>\n",
       "      <td>274.83</td>\n",
       "      <td>824362.87</td>\n",
       "      <td>Saturday</td>\n",
       "    </tr>\n",
       "    <tr>\n",
       "      <th>23673</th>\n",
       "      <td>2017-07-01 11:00:00</td>\n",
       "      <td>ETHUSD</td>\n",
       "      <td>279.98</td>\n",
       "      <td>279.99</td>\n",
       "      <td>272.10</td>\n",
       "      <td>275.01</td>\n",
       "      <td>679358.87</td>\n",
       "      <td>Saturday</td>\n",
       "    </tr>\n",
       "  </tbody>\n",
       "</table>\n",
       "<p>23674 rows × 8 columns</p>\n",
       "</div>"
      ],
      "text/plain": [
       "                     Date  Symbol    Open    High     Low   Close      Volume  \\\n",
       "0     2020-03-13 20:00:00  ETHUSD  129.94  131.82  126.87  128.71  1940673.93   \n",
       "1     2020-03-13 19:00:00  ETHUSD  119.51  132.02  117.10  129.94  7579741.09   \n",
       "2     2020-03-13 18:00:00  ETHUSD  124.47  124.85  115.50  119.51  4898735.81   \n",
       "3     2020-03-13 17:00:00  ETHUSD  124.08  127.42  121.63  124.47  2753450.92   \n",
       "4     2020-03-13 16:00:00  ETHUSD  124.85  129.51  120.17  124.08  4461424.71   \n",
       "...                   ...     ...     ...     ...     ...     ...         ...   \n",
       "23669 2017-07-01 15:00:00  ETHUSD  265.74  272.74  265.00  272.57  1500282.55   \n",
       "23670 2017-07-01 14:00:00  ETHUSD  268.79  269.90  265.00  265.74  1702536.85   \n",
       "23671 2017-07-01 13:00:00  ETHUSD  274.83  274.93  265.00  268.79  3010787.99   \n",
       "23672 2017-07-01 12:00:00  ETHUSD  275.01  275.01  271.00  274.83   824362.87   \n",
       "23673 2017-07-01 11:00:00  ETHUSD  279.98  279.99  272.10  275.01   679358.87   \n",
       "\n",
       "      DayOfWeek  \n",
       "0        Friday  \n",
       "1        Friday  \n",
       "2        Friday  \n",
       "3        Friday  \n",
       "4        Friday  \n",
       "...         ...  \n",
       "23669  Saturday  \n",
       "23670  Saturday  \n",
       "23671  Saturday  \n",
       "23672  Saturday  \n",
       "23673  Saturday  \n",
       "\n",
       "[23674 rows x 8 columns]"
      ]
     },
     "execution_count": 46,
     "metadata": {},
     "output_type": "execute_result"
    }
   ],
   "source": [
    "df"
   ]
  },
  {
   "cell_type": "code",
   "execution_count": 48,
   "id": "c83b9cef",
   "metadata": {},
   "outputs": [
    {
     "data": {
      "text/plain": [
       "Timestamp('2017-07-01 11:00:00')"
      ]
     },
     "execution_count": 48,
     "metadata": {},
     "output_type": "execute_result"
    }
   ],
   "source": [
    "df['Date'].min()"
   ]
  },
  {
   "cell_type": "code",
   "execution_count": 49,
   "id": "1f87fb9a",
   "metadata": {},
   "outputs": [
    {
     "data": {
      "text/plain": [
       "Timestamp('2020-03-13 20:00:00')"
      ]
     },
     "execution_count": 49,
     "metadata": {},
     "output_type": "execute_result"
    }
   ],
   "source": [
    "df['Date'].max()"
   ]
  },
  {
   "cell_type": "code",
   "execution_count": 50,
   "id": "12fb8b96",
   "metadata": {},
   "outputs": [
    {
     "data": {
      "text/plain": [
       "Timedelta('986 days 09:00:00')"
      ]
     },
     "execution_count": 50,
     "metadata": {},
     "output_type": "execute_result"
    }
   ],
   "source": [
    "df['Date'].max() - df['Date'].min()"
   ]
  },
  {
   "cell_type": "code",
   "execution_count": null,
   "id": "e472277c",
   "metadata": {},
   "outputs": [],
   "source": []
  }
 ],
 "metadata": {
  "kernelspec": {
   "display_name": "Python 3",
   "language": "python",
   "name": "python3"
  },
  "language_info": {
   "codemirror_mode": {
    "name": "ipython",
    "version": 3
   },
   "file_extension": ".py",
   "mimetype": "text/x-python",
   "name": "python",
   "nbconvert_exporter": "python",
   "pygments_lexer": "ipython3",
   "version": "3.8.10"
  }
 },
 "nbformat": 4,
 "nbformat_minor": 5
}
